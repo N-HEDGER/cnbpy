{
 "cells": [
  {
   "cell_type": "code",
   "execution_count": 2,
   "metadata": {},
   "outputs": [
    {
     "name": "stdout",
     "output_type": "stream",
     "text": [
      "The autoreload extension is already loaded. To reload it, use:\n",
      "  %reload_ext autoreload\n"
     ]
    }
   ],
   "source": [
    "%load_ext autoreload\n",
    "%autoreload 2\n",
    "import os\n",
    "from cnbpy.datalad import Dataset,Subject,Abide_Subject,Abide_Dataset\n",
    "from cnbpy.bids import BIDS\n",
    "from cnbpy.fmriprep import FMRIPREP\n",
    "import cortex"
   ]
  },
  {
   "cell_type": "markdown",
   "metadata": {},
   "source": [
    "## Downloading the subject data."
   ]
  },
  {
   "cell_type": "markdown",
   "metadata": {},
   "source": [
    "Here I define an ABIDE dataset."
   ]
  },
  {
   "cell_type": "code",
   "execution_count": 15,
   "metadata": {},
   "outputs": [],
   "source": [
    "local_path='/storage/basic/nh_leverhulme/scratchpad'\n",
    "\n",
    "Dset=Abide_Dataset(local_path)"
   ]
  },
  {
   "cell_type": "markdown",
   "metadata": {},
   "source": [
    "I define a subject based on their ID number."
   ]
  },
  {
   "cell_type": "code",
   "execution_count": 16,
   "metadata": {},
   "outputs": [],
   "source": [
    "from cnbpy.datalad import Dataset,Subject,Abide_Subject,Abide_Dataset\n",
    "\n",
    "msub=Abide_Subject(Dset,'30028')"
   ]
  },
  {
   "cell_type": "markdown",
   "metadata": {},
   "source": [
    "I use datalad crawler to make a datalad dataset from their location on AWS."
   ]
  },
  {
   "cell_type": "code",
   "execution_count": 5,
   "metadata": {},
   "outputs": [],
   "source": [
    "msub.make_fmriprep_dataset()"
   ]
  },
  {
   "cell_type": "markdown",
   "metadata": {},
   "source": [
    "I can now crawl through this, to download the meta data on the system."
   ]
  },
  {
   "cell_type": "code",
   "execution_count": 6,
   "metadata": {},
   "outputs": [
    {
     "name": "stderr",
     "output_type": "stream",
     "text": [
      "[INFO] Loading pipeline specification from ./.datalad/crawl/crawl.cfg \n",
      "[INFO] Creating a pipeline for the fcp-indi bucket \n",
      "[WARNING] ATM we assume prefixes to correspond only to directories, adding / \n",
      "[INFO] Running pipeline [<datalad_crawler.nodes.s3.crawl_s3 object at 0x2afbbeb909e8>, switch(default=None, key='datalad_action', mapping=<<{'commit': <fu++328 chars++0>>}>>, re=False)] \n",
      "[INFO] S3 session: Connecting to the bucket fcp-indi anonymously \n",
      "[INFO] Finished running pipeline: skipped: 46 \n",
      "[INFO] Total stats: skipped: 46,  Datasets crawled: 1 \n"
     ]
    }
   ],
   "source": [
    "msub.crawl_fmriprep_dataset()"
   ]
  },
  {
   "cell_type": "markdown",
   "metadata": {},
   "source": [
    "Which is stored here."
   ]
  },
  {
   "cell_type": "code",
   "execution_count": 7,
   "metadata": {},
   "outputs": [
    {
     "data": {
      "text/plain": [
       "'/storage/basic/nh_leverhulme/scratchpad/sub-30028/fmriprep/sub-30028'"
      ]
     },
     "execution_count": 7,
     "metadata": {},
     "output_type": "execute_result"
    }
   ],
   "source": [
    "msub.fmriprep_dset.path"
   ]
  },
  {
   "cell_type": "markdown",
   "metadata": {},
   "source": [
    "I now download the functional data."
   ]
  },
  {
   "cell_type": "code",
   "execution_count": 8,
   "metadata": {},
   "outputs": [],
   "source": [
    "msub.make_bids()\n",
    "msub.get_functional_data()"
   ]
  },
  {
   "cell_type": "code",
   "execution_count": 9,
   "metadata": {},
   "outputs": [],
   "source": [
    "msub.get_sess_run_combs()"
   ]
  },
  {
   "cell_type": "markdown",
   "metadata": {},
   "source": [
    "Here I see the runs and sessions for the subject."
   ]
  },
  {
   "cell_type": "code",
   "execution_count": 10,
   "metadata": {},
   "outputs": [
    {
     "data": {
      "text/plain": [
       "[['1', '1']]"
      ]
     },
     "execution_count": 10,
     "metadata": {},
     "output_type": "execute_result"
    }
   ],
   "source": [
    "msub.sess_run_combs"
   ]
  },
  {
   "cell_type": "markdown",
   "metadata": {},
   "source": [
    "## Preprocessing."
   ]
  },
  {
   "cell_type": "markdown",
   "metadata": {},
   "source": [
    "I now make a preprocessing script for the subject."
   ]
  },
  {
   "cell_type": "code",
   "execution_count": 18,
   "metadata": {},
   "outputs": [],
   "source": [
    "from cnbpy.preproc import Preprocessor\n",
    "myprepoc=Preprocessor(msub)\n",
    "myprepoc.make_pybest_script()"
   ]
  },
  {
   "cell_type": "markdown",
   "metadata": {},
   "source": [
    "Which will exectute the following via slurm."
   ]
  },
  {
   "cell_type": "code",
   "execution_count": 19,
   "metadata": {},
   "outputs": [
    {
     "name": "stdout",
     "output_type": "stream",
     "text": [
      "#!/bin/bash\n",
      "\n",
      "#SBATCH -J pybest_30028\n",
      "#SBATCH -N 1-1\n",
      "#SBATCH --cpus-per-task=4\n",
      "#SBATCH --mem-per-cpu=1G\n",
      "#SBATCH --mail-user=yg916972@reading.ac.uk\n",
      "#SBATCH --error=/storage/basic/nh_leverhulme/pybest/pybest_30028.err\n",
      "#SBATCH --output=/storage/basic/nh_leverhulme/pybest/pybest_30028.out\n",
      "#SBATCH --mail-type=ALL\n",
      "\n",
      "\n",
      "pybest /storage/basic/nh_leverhulme/scratchpad/sub-30028/fmriprep --space fsaverage5 --save-all --noise-source fmriprep --hemi L --out-dir /storage/basic/nh_leverhulme/pybest\n",
      "\n",
      "pybest /storage/basic/nh_leverhulme/scratchpad/sub-30028/fmriprep --space fsaverage5 --save-all --noise-source fmriprep --hemi R --out-dir /storage/basic/nh_leverhulme/pybest\n",
      "\n"
     ]
    }
   ],
   "source": [
    "print(myprepoc.pybest_job.working_string)"
   ]
  },
  {
   "cell_type": "code",
   "execution_count": 20,
   "metadata": {},
   "outputs": [],
   "source": [
    "myprepoc.pybest_job.execute()"
   ]
  },
  {
   "cell_type": "markdown",
   "metadata": {},
   "source": [
    "Now that pybest has produced the denoised data, I can now drop the original files, should I wish to."
   ]
  },
  {
   "cell_type": "code",
   "execution_count": null,
   "metadata": {},
   "outputs": [],
   "source": [
    "msub.drop_fmriprep_dataset()"
   ]
  },
  {
   "cell_type": "markdown",
   "metadata": {},
   "source": [
    "## Analysis"
   ]
  },
  {
   "cell_type": "markdown",
   "metadata": {},
   "source": [
    "I prepare the analysis for the subject, which requires the subject, a name for the analysis and an ROI to use as a source region. \n",
    "It also requires the run and session number."
   ]
  },
  {
   "cell_type": "code",
   "execution_count": 21,
   "metadata": {},
   "outputs": [
    {
     "name": "stderr",
     "output_type": "stream",
     "text": [
      "/home/users/yg916972/.conda/envs/p3env/lib/python3.6/site-packages/nilearn/__init__.py:69: FutureWarning: Python 3.6 support is deprecated and will be removed in release 0.10 of Nilearn. Consider switching to Python 3.8 or 3.9.\n",
      "  _python_deprecation_warnings()\n",
      "/home/users/yg916972/Software/prfpy/prfpy/model.py:3: UserWarning: \n",
      "\n",
      " | Using Nistats with Nilearn versions >= 0.7.0 is redundant and potentially conflicting.\n",
      " | Nilearn versions 0.7.0 and up offer all the functionality of Nistats as well the latest features and fixes.\n",
      " | We strongly recommend uninstalling Nistats and using Nilearn's stats & reporting modules.\n",
      "\n",
      "  from nistats.hemodynamic_models import spm_hrf, spm_time_derivative, spm_dispersion_derivative\n"
     ]
    },
    {
     "name": "stdout",
     "output_type": "stream",
     "text": [
      "Generating subsurfaces\n",
      "Creating distance by distance matrices\n"
     ]
    },
    {
     "name": "stderr",
     "output_type": "stream",
     "text": [
      "/home/users/yg916972/.conda/envs/p3env/lib/python3.6/site-packages/scipy/sparse/linalg/dsolve/linsolve.py:318: SparseEfficiencyWarning: splu requires CSC matrix format\n",
      "  warn('splu requires CSC matrix format', SparseEfficiencyWarning)\n",
      "/home/users/yg916972/.conda/envs/p3env/lib/python3.6/site-packages/scipy/sparse/linalg/dsolve/linsolve.py:318: SparseEfficiencyWarning: splu requires CSC matrix format\n",
      "  warn('splu requires CSC matrix format', SparseEfficiencyWarning)\n"
     ]
    }
   ],
   "source": [
    "from cnbpy.analysis import CF_analysis\n",
    "myan=CF_analysis(msub,analysis_name='Test_analysis')\n",
    "myan.startup(*msub.sess_run_combs[0],roilab='V1')\n",
    "myan.prepare_analysis()"
   ]
  },
  {
   "cell_type": "markdown",
   "metadata": {},
   "source": [
    "I perform the fitting as follows."
   ]
  },
  {
   "cell_type": "code",
   "execution_count": 22,
   "metadata": {},
   "outputs": [
    {
     "name": "stderr",
     "output_type": "stream",
     "text": [
      "  0%|          | 0/5 [00:00<?, ?it/s]/home/users/yg916972/.conda/envs/p3env/lib/python3.6/site-packages/scipy/stats/stats.py:2500: RuntimeWarning: invalid value encountered in true_divide\n",
      "  return (a - mns) / sstd\n",
      "/home/users/yg916972/Software/cnbpy/cnbpy/analysis.py:194: RuntimeWarning: invalid value encountered in less\n",
      "  xval4weights[xval4weights<0]=0.00001\n",
      "100%|██████████| 5/5 [00:07<00:00,  1.54s/it]\n"
     ]
    }
   ],
   "source": [
    "myan.fit_all_folds()"
   ]
  },
  {
   "cell_type": "markdown",
   "metadata": {},
   "source": [
    "I summarise the fits across folds as follows."
   ]
  },
  {
   "cell_type": "code",
   "execution_count": 23,
   "metadata": {},
   "outputs": [],
   "source": [
    "myan.summarise_fits()"
   ]
  },
  {
   "cell_type": "markdown",
   "metadata": {},
   "source": [
    "Which returns the fitted outcomes for each vertex."
   ]
  },
  {
   "cell_type": "code",
   "execution_count": 24,
   "metadata": {},
   "outputs": [
    {
     "data": {
      "text/html": [
       "<div>\n",
       "<style scoped>\n",
       "    .dataframe tbody tr th:only-of-type {\n",
       "        vertical-align: middle;\n",
       "    }\n",
       "\n",
       "    .dataframe tbody tr th {\n",
       "        vertical-align: top;\n",
       "    }\n",
       "\n",
       "    .dataframe thead th {\n",
       "        text-align: right;\n",
       "    }\n",
       "</style>\n",
       "<table border=\"1\" class=\"dataframe\">\n",
       "  <thead>\n",
       "    <tr style=\"text-align: right;\">\n",
       "      <th></th>\n",
       "      <th>x</th>\n",
       "      <th>y</th>\n",
       "      <th>sigma</th>\n",
       "      <th>vert</th>\n",
       "      <th>R2</th>\n",
       "      <th>vert</th>\n",
       "      <th>xval_R2</th>\n",
       "      <th>session</th>\n",
       "      <th>run</th>\n",
       "      <th>roi</th>\n",
       "      <th>TRs</th>\n",
       "      <th>spliced_prf_eccentricity</th>\n",
       "      <th>spliced_prf_polar_angle</th>\n",
       "    </tr>\n",
       "  </thead>\n",
       "  <tbody>\n",
       "    <tr>\n",
       "      <th>0</th>\n",
       "      <td>-0.072875</td>\n",
       "      <td>0.323436</td>\n",
       "      <td>0.500000</td>\n",
       "      <td>0.0</td>\n",
       "      <td>0.041004</td>\n",
       "      <td>0.0</td>\n",
       "      <td>0.009045</td>\n",
       "      <td>1</td>\n",
       "      <td>1</td>\n",
       "      <td>V1</td>\n",
       "      <td>151</td>\n",
       "      <td>0.331545</td>\n",
       "      <td>1.792410</td>\n",
       "    </tr>\n",
       "    <tr>\n",
       "      <th>1</th>\n",
       "      <td>-4.073094</td>\n",
       "      <td>-5.925365</td>\n",
       "      <td>0.500000</td>\n",
       "      <td>1.0</td>\n",
       "      <td>0.100186</td>\n",
       "      <td>1.0</td>\n",
       "      <td>0.011210</td>\n",
       "      <td>1</td>\n",
       "      <td>1</td>\n",
       "      <td>V1</td>\n",
       "      <td>151</td>\n",
       "      <td>7.190274</td>\n",
       "      <td>-2.173016</td>\n",
       "    </tr>\n",
       "    <tr>\n",
       "      <th>2</th>\n",
       "      <td>-5.702929</td>\n",
       "      <td>5.574198</td>\n",
       "      <td>0.528290</td>\n",
       "      <td>2.0</td>\n",
       "      <td>0.082211</td>\n",
       "      <td>2.0</td>\n",
       "      <td>0.085339</td>\n",
       "      <td>1</td>\n",
       "      <td>1</td>\n",
       "      <td>V1</td>\n",
       "      <td>151</td>\n",
       "      <td>7.974652</td>\n",
       "      <td>2.367609</td>\n",
       "    </tr>\n",
       "    <tr>\n",
       "      <th>3</th>\n",
       "      <td>1.629484</td>\n",
       "      <td>0.532162</td>\n",
       "      <td>0.990211</td>\n",
       "      <td>3.0</td>\n",
       "      <td>0.068832</td>\n",
       "      <td>3.0</td>\n",
       "      <td>0.006329</td>\n",
       "      <td>1</td>\n",
       "      <td>1</td>\n",
       "      <td>V1</td>\n",
       "      <td>151</td>\n",
       "      <td>1.714180</td>\n",
       "      <td>0.315663</td>\n",
       "    </tr>\n",
       "    <tr>\n",
       "      <th>4</th>\n",
       "      <td>-4.085898</td>\n",
       "      <td>4.346933</td>\n",
       "      <td>0.500000</td>\n",
       "      <td>4.0</td>\n",
       "      <td>0.062598</td>\n",
       "      <td>4.0</td>\n",
       "      <td>0.007859</td>\n",
       "      <td>1</td>\n",
       "      <td>1</td>\n",
       "      <td>V1</td>\n",
       "      <td>151</td>\n",
       "      <td>5.965768</td>\n",
       "      <td>2.325250</td>\n",
       "    </tr>\n",
       "    <tr>\n",
       "      <th>...</th>\n",
       "      <td>...</td>\n",
       "      <td>...</td>\n",
       "      <td>...</td>\n",
       "      <td>...</td>\n",
       "      <td>...</td>\n",
       "      <td>...</td>\n",
       "      <td>...</td>\n",
       "      <td>...</td>\n",
       "      <td>...</td>\n",
       "      <td>...</td>\n",
       "      <td>...</td>\n",
       "      <td>...</td>\n",
       "      <td>...</td>\n",
       "    </tr>\n",
       "    <tr>\n",
       "      <th>20479</th>\n",
       "      <td>-6.372122</td>\n",
       "      <td>4.599614</td>\n",
       "      <td>0.999956</td>\n",
       "      <td>20479.0</td>\n",
       "      <td>0.071841</td>\n",
       "      <td>20479.0</td>\n",
       "      <td>0.016557</td>\n",
       "      <td>1</td>\n",
       "      <td>1</td>\n",
       "      <td>V1</td>\n",
       "      <td>151</td>\n",
       "      <td>7.858778</td>\n",
       "      <td>2.516363</td>\n",
       "    </tr>\n",
       "    <tr>\n",
       "      <th>20480</th>\n",
       "      <td>-1.066362</td>\n",
       "      <td>7.192217</td>\n",
       "      <td>0.513722</td>\n",
       "      <td>20480.0</td>\n",
       "      <td>0.078038</td>\n",
       "      <td>20480.0</td>\n",
       "      <td>0.052445</td>\n",
       "      <td>1</td>\n",
       "      <td>1</td>\n",
       "      <td>V1</td>\n",
       "      <td>151</td>\n",
       "      <td>7.270840</td>\n",
       "      <td>1.717990</td>\n",
       "    </tr>\n",
       "    <tr>\n",
       "      <th>20481</th>\n",
       "      <td>0.057322</td>\n",
       "      <td>-1.102500</td>\n",
       "      <td>0.645016</td>\n",
       "      <td>20481.0</td>\n",
       "      <td>0.122481</td>\n",
       "      <td>20481.0</td>\n",
       "      <td>0.066450</td>\n",
       "      <td>1</td>\n",
       "      <td>1</td>\n",
       "      <td>V1</td>\n",
       "      <td>151</td>\n",
       "      <td>1.103989</td>\n",
       "      <td>-1.518850</td>\n",
       "    </tr>\n",
       "    <tr>\n",
       "      <th>20482</th>\n",
       "      <td>0.040770</td>\n",
       "      <td>-1.572552</td>\n",
       "      <td>0.500155</td>\n",
       "      <td>20482.0</td>\n",
       "      <td>0.138875</td>\n",
       "      <td>20482.0</td>\n",
       "      <td>0.121573</td>\n",
       "      <td>1</td>\n",
       "      <td>1</td>\n",
       "      <td>V1</td>\n",
       "      <td>151</td>\n",
       "      <td>1.573081</td>\n",
       "      <td>-1.544876</td>\n",
       "    </tr>\n",
       "    <tr>\n",
       "      <th>20483</th>\n",
       "      <td>0.912291</td>\n",
       "      <td>0.414029</td>\n",
       "      <td>0.899445</td>\n",
       "      <td>20483.0</td>\n",
       "      <td>0.065106</td>\n",
       "      <td>20483.0</td>\n",
       "      <td>0.005370</td>\n",
       "      <td>1</td>\n",
       "      <td>1</td>\n",
       "      <td>V1</td>\n",
       "      <td>151</td>\n",
       "      <td>1.001846</td>\n",
       "      <td>0.426038</td>\n",
       "    </tr>\n",
       "  </tbody>\n",
       "</table>\n",
       "<p>20484 rows × 13 columns</p>\n",
       "</div>"
      ],
      "text/plain": [
       "              x         y     sigma     vert        R2     vert   xval_R2  \\\n",
       "0     -0.072875  0.323436  0.500000      0.0  0.041004      0.0  0.009045   \n",
       "1     -4.073094 -5.925365  0.500000      1.0  0.100186      1.0  0.011210   \n",
       "2     -5.702929  5.574198  0.528290      2.0  0.082211      2.0  0.085339   \n",
       "3      1.629484  0.532162  0.990211      3.0  0.068832      3.0  0.006329   \n",
       "4     -4.085898  4.346933  0.500000      4.0  0.062598      4.0  0.007859   \n",
       "...         ...       ...       ...      ...       ...      ...       ...   \n",
       "20479 -6.372122  4.599614  0.999956  20479.0  0.071841  20479.0  0.016557   \n",
       "20480 -1.066362  7.192217  0.513722  20480.0  0.078038  20480.0  0.052445   \n",
       "20481  0.057322 -1.102500  0.645016  20481.0  0.122481  20481.0  0.066450   \n",
       "20482  0.040770 -1.572552  0.500155  20482.0  0.138875  20482.0  0.121573   \n",
       "20483  0.912291  0.414029  0.899445  20483.0  0.065106  20483.0  0.005370   \n",
       "\n",
       "      session run roi  TRs  spliced_prf_eccentricity  spliced_prf_polar_angle  \n",
       "0           1   1  V1  151                  0.331545                 1.792410  \n",
       "1           1   1  V1  151                  7.190274                -2.173016  \n",
       "2           1   1  V1  151                  7.974652                 2.367609  \n",
       "3           1   1  V1  151                  1.714180                 0.315663  \n",
       "4           1   1  V1  151                  5.965768                 2.325250  \n",
       "...       ...  ..  ..  ...                       ...                      ...  \n",
       "20479       1   1  V1  151                  7.858778                 2.516363  \n",
       "20480       1   1  V1  151                  7.270840                 1.717990  \n",
       "20481       1   1  V1  151                  1.103989                -1.518850  \n",
       "20482       1   1  V1  151                  1.573081                -1.544876  \n",
       "20483       1   1  V1  151                  1.001846                 0.426038  \n",
       "\n",
       "[20484 rows x 13 columns]"
      ]
     },
     "execution_count": 24,
     "metadata": {},
     "output_type": "execute_result"
    }
   ],
   "source": [
    "myan.av_frame"
   ]
  },
  {
   "cell_type": "markdown",
   "metadata": {},
   "source": [
    "I prepare the output directories for the subject."
   ]
  },
  {
   "cell_type": "code",
   "execution_count": 25,
   "metadata": {},
   "outputs": [],
   "source": [
    "myan.prepare_out_dirs()"
   ]
  },
  {
   "cell_type": "markdown",
   "metadata": {},
   "source": [
    "And save out the CSV file."
   ]
  },
  {
   "cell_type": "code",
   "execution_count": 26,
   "metadata": {},
   "outputs": [],
   "source": [
    "myan.saveout()"
   ]
  },
  {
   "cell_type": "markdown",
   "metadata": {},
   "source": [
    "I then define a plotter, which makes the webplotter from the CSV file."
   ]
  },
  {
   "cell_type": "code",
   "execution_count": 68,
   "metadata": {},
   "outputs": [],
   "source": [
    "from cnbpy.analysis import Plotter"
   ]
  },
  {
   "cell_type": "code",
   "execution_count": 69,
   "metadata": {},
   "outputs": [
    {
     "name": "stdout",
     "output_type": "stream",
     "text": [
      "Generating new ctm file...\n",
      "wm\n",
      "wm\n",
      "inflated\n",
      "inflated\n"
     ]
    }
   ],
   "source": [
    "mp=Plotter(myan)\n",
    "\n",
    "mp.make_webplotter()"
   ]
  },
  {
   "cell_type": "markdown",
   "metadata": {},
   "source": [
    "## Putting it all together\n",
    "\n",
    "### Slurm downloading and preprocessing"
   ]
  },
  {
   "cell_type": "markdown",
   "metadata": {},
   "source": [
    "Accordingly, I can download and preprocess subjects via slurm using the following functions\n",
    "\n",
    "Essentially, I take a yaml file to populate a template script with basic information about the requested hardware etc. These are in /jobs. I then make an additional dictionary to further populate the script based on the subject I want to download."
   ]
  },
  {
   "cell_type": "code",
   "execution_count": 14,
   "metadata": {},
   "outputs": [
    {
     "name": "stdout",
     "output_type": "stream",
     "text": [
      "The autoreload extension is already loaded. To reload it, use:\n",
      "  %reload_ext autoreload\n"
     ]
    }
   ],
   "source": [
    "%load_ext autoreload\n",
    "%autoreload 2\n",
    "\n",
    "from cnbpy.utils import send_slurm_job"
   ]
  },
  {
   "cell_type": "code",
   "execution_count": 9,
   "metadata": {},
   "outputs": [],
   "source": [
    "def slurm_download_preproc(subject,local_path='/storage/basic/nh_leverhulme/scratchpad',jobout='/storage/basic/nh_leverhulme/JOBS/ABIDE'):\n",
    "    job_path = pkg_resources.resource_filename('cnbpy', 'jobs')\n",
    "    download_template=os.path.join(job_path,'template_Download_preproc.sh')\n",
    "    download_yaml=os.path.join(job_path,'Download_preproc_config.yml')\n",
    "    \n",
    "    \n",
    "    supdict_download={'---subno---':subject,'---local_path---':local_path}\n",
    "\n",
    "    send_slurm_job(download_template,download_yaml,supdict_download,jobname='Download_Preproc_{subid}'.format(subid=subject),jobout=jobout)"
   ]
  },
  {
   "cell_type": "code",
   "execution_count": 11,
   "metadata": {},
   "outputs": [
    {
     "name": "stdout",
     "output_type": "stream",
     "text": [
      "Download_Preproc_30028 sent to SLURM\n"
     ]
    }
   ],
   "source": [
    "slurm_download_preproc('30028')"
   ]
  },
  {
   "cell_type": "markdown",
   "metadata": {},
   "source": [
    "Here I download and preprocess the subject."
   ]
  },
  {
   "cell_type": "markdown",
   "metadata": {},
   "source": [
    "### Slurm model fitting and plotting\n",
    "\n",
    "I can then perform the fitting on the subject as follows."
   ]
  },
  {
   "cell_type": "code",
   "execution_count": 24,
   "metadata": {},
   "outputs": [],
   "source": [
    "def slurm_CF_fit(subject,analysis_name,roilab,local_path='/storage/basic/nh_leverhulme/scratchpad',jobout='/storage/basic/nh_leverhulme/JOBS/ABIDE'):\n",
    "    job_path = pkg_resources.resource_filename('cnbpy', 'jobs')\n",
    "    fit_template=os.path.join(job_path,'template_CF_fit.sh')\n",
    "    fit_yaml=os.path.join(job_path,'CF_fit_config.yml')\n",
    "        \n",
    "    supdict_CF_fit={'---subno---':subject,'---local_path---':local_path,'---analysis_name---':analysis_name,'---roilab---':roilab}\n",
    "\n",
    "    send_slurm_job(fit_template,fit_yaml,supdict_CF_fit,jobname='CF_fit_{subid}_{roilab}'.format(subid=subject,roilab=roilab),jobout=jobout)"
   ]
  },
  {
   "cell_type": "markdown",
   "metadata": {},
   "source": [
    "And perform all the fitting and plotting via SLURM using the following function."
   ]
  },
  {
   "cell_type": "code",
   "execution_count": 23,
   "metadata": {},
   "outputs": [
    {
     "name": "stdout",
     "output_type": "stream",
     "text": [
      "CF_fit_30028 sent to SLURM\n"
     ]
    }
   ],
   "source": [
    "slurm_CF_fit('30028',analysis_name='Test_analysis',roilab='V1')"
   ]
  },
  {
   "cell_type": "code",
   "execution_count": 25,
   "metadata": {},
   "outputs": [],
   "source": [
    "job_path = pkg_resources.resource_filename('cnbpy', 'jobs')"
   ]
  },
  {
   "cell_type": "markdown",
   "metadata": {},
   "source": [
    "Here I perform the fitting on the subject."
   ]
  },
  {
   "cell_type": "markdown",
   "metadata": {},
   "source": [
    "Now I just need to create a bog list of subjects and submit all the jobs for each subject."
   ]
  }
 ],
 "metadata": {
  "kernelspec": {
   "display_name": "Python 3",
   "language": "python",
   "name": "python3"
  },
  "language_info": {
   "codemirror_mode": {
    "name": "ipython",
    "version": 3
   },
   "file_extension": ".py",
   "mimetype": "text/x-python",
   "name": "python",
   "nbconvert_exporter": "python",
   "pygments_lexer": "ipython3",
   "version": "3.6.10"
  }
 },
 "nbformat": 4,
 "nbformat_minor": 4
}
