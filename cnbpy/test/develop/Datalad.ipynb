{
 "cells": [
  {
   "cell_type": "markdown",
   "metadata": {},
   "source": [
    "# Datalad stuff"
   ]
  },
  {
   "cell_type": "code",
   "execution_count": 14,
   "metadata": {},
   "outputs": [
    {
     "name": "stdout",
     "output_type": "stream",
     "text": [
      "The autoreload extension is already loaded. To reload it, use:\n",
      "  %reload_ext autoreload\n"
     ]
    }
   ],
   "source": [
    "%load_ext autoreload\n",
    "%autoreload 2\n",
    "import os\n",
    "from cnbpy.datalad import Dataset,Subject\n",
    "from cnbpy.bids import BIDS\n",
    "from cnbpy.fmriprep import FMRIPREP"
   ]
  },
  {
   "cell_type": "markdown",
   "metadata": {},
   "source": [
    "To define a 'DATASET', we simply need a local path and a path to the datalad BIDS repository, as listed on http://datasets.datalad.org/"
   ]
  },
  {
   "cell_type": "code",
   "execution_count": 2,
   "metadata": {},
   "outputs": [],
   "source": [
    "local_path='/storage/research/cinn_comp/cnbpy_Resources/FMRIPREP_EXAMP'"
   ]
  },
  {
   "cell_type": "markdown",
   "metadata": {},
   "source": [
    "For instance, although the ABIDE dataset itself is not in BIDS format, the data from the individual sites is, hence we point to an individual site."
   ]
  },
  {
   "cell_type": "code",
   "execution_count": 3,
   "metadata": {},
   "outputs": [],
   "source": [
    "source='///abide2/RawData/GU_1'"
   ]
  },
  {
   "cell_type": "markdown",
   "metadata": {},
   "source": [
    "I define a dataset class. "
   ]
  },
  {
   "cell_type": "code",
   "execution_count": 5,
   "metadata": {},
   "outputs": [],
   "source": [
    "DSET=Dataset(local_path,source)"
   ]
  },
  {
   "cell_type": "code",
   "execution_count": 6,
   "metadata": {},
   "outputs": [
    {
     "name": "stderr",
     "output_type": "stream",
     "text": [
      "[INFO] Cloning dataset to Dataset(/storage/research/cinn_comp/cnbpy_Resources/FMRIPREP_EXAMP) \n",
      "[INFO] Attempting to clone from http://datasets.datalad.org/abide2/RawData/GU_1 to /storage/research/cinn_comp/cnbpy_Resources/FMRIPREP_EXAMP \n",
      "[INFO] Attempting to clone from http://datasets.datalad.org/abide2/RawData/GU_1/.git to /storage/research/cinn_comp/cnbpy_Resources/FMRIPREP_EXAMP \n",
      "[INFO] Start enumerating objects \n",
      "[INFO] Start counting objects \n",
      "[INFO] Start compressing objects \n",
      "[INFO] Completed clone attempts for Dataset(/storage/research/cinn_comp/cnbpy_Resources/FMRIPREP_EXAMP) \n",
      "[INFO] Scanning for unlocked files (this may take some time) \n"
     ]
    }
   ],
   "source": [
    "DSET.install()"
   ]
  },
  {
   "cell_type": "code",
   "execution_count": 15,
   "metadata": {},
   "outputs": [],
   "source": [
    "DSET.get_info_files()"
   ]
  },
  {
   "cell_type": "markdown",
   "metadata": {},
   "source": [
    "Which has an 'install' method."
   ]
  },
  {
   "cell_type": "markdown",
   "metadata": {},
   "source": [
    "This has 'installed the data' at the local_path location. We can see that it has installed a bunch directories that mimic the structure of the Actual data.\n",
    "\n",
    "This isn't populated with real data, however. "
   ]
  },
  {
   "cell_type": "code",
   "execution_count": 25,
   "metadata": {},
   "outputs": [
    {
     "data": {
      "text/plain": [
       "['sub-28817',\n",
       " 'sub-28744',\n",
       " 'sub-28825',\n",
       " 'sub-28798',\n",
       " 'sub-28776',\n",
       " 'sub-28792',\n",
       " 'sub-28804',\n",
       " 'sub-28757',\n",
       " 'sub-28836',\n",
       " 'sub-28841']"
      ]
     },
     "execution_count": 25,
     "metadata": {},
     "output_type": "execute_result"
    }
   ],
   "source": [
    "os.listdir(DSET.local_base)[:10]"
   ]
  },
  {
   "cell_type": "markdown",
   "metadata": {},
   "source": [
    "Because the structure of the dataset already exists, we can leverage the BIDS class to get information about it (before we have actually downloaded anything)"
   ]
  },
  {
   "cell_type": "code",
   "execution_count": 23,
   "metadata": {},
   "outputs": [],
   "source": [
    "myBIDS=BIDS(DSET.local_base)"
   ]
  },
  {
   "cell_type": "markdown",
   "metadata": {},
   "source": [
    "*Before this line of code* we need to make a function called 'read_participants_tsv' that:\n",
    "\n",
    "1. defines a path to the participants.tsv called 'self.pcsvpath'\n",
    "2. Uses pandas (already imported as pd) to read the tsv into a dataframe called 'self.pcsv'\n",
    "\n",
    "*hint*: you will need to specify the correct delimeter for a **t**csv file.\n",
    "engine='python'\n",
    "\n"
   ]
  },
  {
   "cell_type": "markdown",
   "metadata": {},
   "source": [
    "So if you have done everything right, the following line should run:"
   ]
  },
  {
   "cell_type": "code",
   "execution_count": null,
   "metadata": {},
   "outputs": [],
   "source": [
    "myBIDS.read_participants_tsv()"
   ]
  },
  {
   "cell_type": "markdown",
   "metadata": {},
   "source": [
    "And a pandas dataframe should be printed when you run this:"
   ]
  },
  {
   "cell_type": "code",
   "execution_count": null,
   "metadata": {},
   "outputs": [],
   "source": [
    "mybids.pcsv"
   ]
  },
  {
   "cell_type": "markdown",
   "metadata": {},
   "source": [
    "If we want to actually download some data, we can do this with the subject class. "
   ]
  },
  {
   "cell_type": "code",
   "execution_count": 11,
   "metadata": {},
   "outputs": [],
   "source": [
    "from cnbpy.datalad import Subject"
   ]
  },
  {
   "cell_type": "code",
   "execution_count": 12,
   "metadata": {},
   "outputs": [],
   "source": [
    "mysubject=Subject(DSET,'28846')"
   ]
  },
  {
   "cell_type": "markdown",
   "metadata": {},
   "source": [
    "This subject's data is now downloaded.  "
   ]
  },
  {
   "cell_type": "code",
   "execution_count": 13,
   "metadata": {},
   "outputs": [],
   "source": [
    "mysubject.get()"
   ]
  },
  {
   "cell_type": "markdown",
   "metadata": {},
   "source": [
    "We can remove as follows. "
   ]
  },
  {
   "cell_type": "code",
   "execution_count": 26,
   "metadata": {},
   "outputs": [],
   "source": [
    "mysubject.drop()"
   ]
  },
  {
   "cell_type": "markdown",
   "metadata": {},
   "source": [
    "And also re-add them just as easily."
   ]
  },
  {
   "cell_type": "code",
   "execution_count": 27,
   "metadata": {},
   "outputs": [],
   "source": [
    "mysubject.get()"
   ]
  },
  {
   "cell_type": "markdown",
   "metadata": {},
   "source": [
    "We can remove the entire dataset as follows."
   ]
  },
  {
   "cell_type": "code",
   "execution_count": 49,
   "metadata": {},
   "outputs": [],
   "source": [
    "DSET.remove()"
   ]
  }
 ],
 "metadata": {
  "kernelspec": {
   "display_name": "Python 3",
   "language": "python",
   "name": "python3"
  },
  "language_info": {
   "codemirror_mode": {
    "name": "ipython",
    "version": 3
   },
   "file_extension": ".py",
   "mimetype": "text/x-python",
   "name": "python",
   "nbconvert_exporter": "python",
   "pygments_lexer": "ipython3",
   "version": "3.6.10"
  }
 },
 "nbformat": 4,
 "nbformat_minor": 4
}
