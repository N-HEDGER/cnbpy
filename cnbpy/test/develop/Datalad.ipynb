{
 "cells": [
  {
   "cell_type": "markdown",
   "metadata": {},
   "source": [
    "# Datalad stuff"
   ]
  },
  {
   "cell_type": "code",
<<<<<<< HEAD
   "execution_count": 14,
   "metadata": {},
   "outputs": [
    {
     "name": "stdout",
     "output_type": "stream",
     "text": [
      "The autoreload extension is already loaded. To reload it, use:\n",
      "  %reload_ext autoreload\n"
     ]
    }
   ],
=======
   "execution_count": null,
   "metadata": {},
   "outputs": [],
>>>>>>> f774b36a5c73ed739b40d4c2b47d4562e497820c
   "source": [
    "%load_ext autoreload\n",
    "%autoreload 2\n",
    "import os\n",
    "from cnbpy.datalad import Dataset,Subject\n",
    "from cnbpy.bids import BIDS\n",
    "from cnbpy.fmriprep import FMRIPREP"
   ]
  },
  {
   "cell_type": "markdown",
   "metadata": {},
   "source": [
    "To define a 'DATASET', we simply need a local path and a path to the datalad BIDS repository, as listed on http://datasets.datalad.org/"
   ]
  },
  {
   "cell_type": "code",
   "execution_count": 2,
   "metadata": {},
   "outputs": [],
   "source": [
<<<<<<< HEAD
    "local_path='/storage/research/cinn_comp/cnbpy_Resources/FMRIPREP_EXAMP'"
=======
    "local_path='/storage/research/cinn_comp/cnbpy/datalad/'"
>>>>>>> f774b36a5c73ed739b40d4c2b47d4562e497820c
   ]
  },
  {
   "cell_type": "markdown",
   "metadata": {},
   "source": [
    "For instance, although the ABIDE dataset itself is not in BIDS format, the data from the individual sites is, hence we point to an individual site."
   ]
  },
  {
   "cell_type": "code",
   "execution_count": 3,
   "metadata": {},
   "outputs": [],
   "source": [
    "source='///abide2/RawData/GU_1'"
   ]
  },
  {
   "cell_type": "markdown",
   "metadata": {},
   "source": [
    "I define a dataset class. "
   ]
  },
  {
   "cell_type": "code",
<<<<<<< HEAD
=======
   "execution_count": 4,
   "metadata": {},
   "outputs": [],
   "source": [
    "DSET=DATASET(local_path,source)"
   ]
  },
  {
   "cell_type": "code",
>>>>>>> f774b36a5c73ed739b40d4c2b47d4562e497820c
   "execution_count": 5,
   "metadata": {},
   "outputs": [
    {
     "name": "stderr",
     "output_type": "stream",
     "text": [
      "[INFO] Cloning dataset to Dataset(/storage/research/cinn_comp/cnbpy/datalad) \n",
      "[INFO] Attempting to clone from http://datasets.datalad.org/abide2/RawData/GU_1 to /storage/research/cinn_comp/cnbpy/datalad \n",
      "[INFO] Attempting to clone from http://datasets.datalad.org/abide2/RawData/GU_1/.git to /storage/research/cinn_comp/cnbpy/datalad \n",
      "[INFO] Start enumerating objects \n",
      "[INFO] Start counting objects \n",
      "[INFO] Start compressing objects \n",
      "[INFO] Start receiving objects \n",
      "[INFO] Start resolving deltas \n",
      "[INFO] Completed clone attempts for Dataset(/storage/research/cinn_comp/cnbpy/datalad) \n"
     ]
    }
   ],
   "source": [
    "DSET=Dataset(local_path,source)"
   ]
  },
  {
   "cell_type": "code",
   "execution_count": 6,
   "metadata": {},
   "outputs": [
    {
<<<<<<< HEAD
     "name": "stderr",
     "output_type": "stream",
     "text": [
      "[INFO] Cloning dataset to Dataset(/storage/research/cinn_comp/cnbpy_Resources/FMRIPREP_EXAMP) \n",
      "[INFO] Attempting to clone from http://datasets.datalad.org/abide2/RawData/GU_1 to /storage/research/cinn_comp/cnbpy_Resources/FMRIPREP_EXAMP \n",
      "[INFO] Attempting to clone from http://datasets.datalad.org/abide2/RawData/GU_1/.git to /storage/research/cinn_comp/cnbpy_Resources/FMRIPREP_EXAMP \n",
      "[INFO] Start enumerating objects \n",
      "[INFO] Start counting objects \n",
      "[INFO] Start compressing objects \n",
      "[INFO] Completed clone attempts for Dataset(/storage/research/cinn_comp/cnbpy_Resources/FMRIPREP_EXAMP) \n",
      "[INFO] Scanning for unlocked files (this may take some time) \n"
     ]
=======
     "data": {
      "text/plain": [
       "'/storage/research/cinn_comp/cnbpy/datalad/'"
      ]
     },
     "execution_count": 6,
     "metadata": {},
     "output_type": "execute_result"
>>>>>>> f774b36a5c73ed739b40d4c2b47d4562e497820c
    }
   ],
   "source": [
    "DSET.install()"
   ]
  },
  {
   "cell_type": "code",
<<<<<<< HEAD
   "execution_count": 15,
=======
   "execution_count": 9,
>>>>>>> f774b36a5c73ed739b40d4c2b47d4562e497820c
   "metadata": {},
   "outputs": [],
   "source": [
    "DSET.get_info_files()"
   ]
  },
  {
   "cell_type": "markdown",
   "metadata": {},
   "source": [
    "Which has an 'install' method."
   ]
  },
  {
   "cell_type": "markdown",
   "metadata": {},
   "source": [
    "This has 'installed the data' at the local_path location. We can see that it has installed a bunch directories that mimic the structure of the Actual data.\n",
    "\n",
    "This isn't populated with real data, however. "
   ]
  },
  {
   "cell_type": "code",
   "execution_count": 10,
   "metadata": {},
   "outputs": [
    {
     "data": {
      "text/plain": [
       "['sub-28847',\n",
       " 'sub-28830',\n",
       " 'sub-28763',\n",
       " 'sub-28787',\n",
       " 'sub-28769',\n",
       " '.gitattributes',\n",
       " 'sub-28802',\n",
       " 'sub-28808',\n",
       " 'sub-28751',\n",
       " 'T1w.json']"
      ]
     },
     "execution_count": 10,
     "metadata": {},
     "output_type": "execute_result"
    }
   ],
   "source": [
    "os.listdir(DSET.local_base)[:10]"
   ]
  },
  {
   "cell_type": "markdown",
   "metadata": {},
   "source": [
    "Because the structure of the dataset already exists, we can leverage the BIDS class to get information about it (before we have actually downloaded anything)"
   ]
  },
  {
   "cell_type": "code",
   "execution_count": 11,
   "metadata": {},
   "outputs": [],
   "source": [
    "myBIDS=BIDS(DSET.local_base)"
   ]
  },
  {
   "cell_type": "markdown",
   "metadata": {},
   "source": [
    "*Before this line of code* we need to make a function called 'read_participants_tsv' that:\n",
    "\n",
    "1. defines a path to the participants.tsv called 'self.pcsvpath'\n",
    "2. Uses pandas (already imported as pd) to read the tsv into a dataframe called 'self.pcsv'\n",
    "\n",
    "*hint*: you will need to specify the correct delimeter for a **t**csv file.\n",
    "engine='python'\n",
    "\n"
   ]
  },
  {
   "cell_type": "markdown",
   "metadata": {},
   "source": [
    "So if you have done everything right, the following line should run:"
   ]
  },
  {
   "cell_type": "code",
   "execution_count": 20,
   "metadata": {},
   "outputs": [
    {
     "name": "stdout",
     "output_type": "stream",
     "text": [
      "'participants.tsv' data saved to self.pcsv\n"
     ]
    }
   ],
   "source": [
    "myBIDS.read_participants_tsv()\n"
   ]
  },
  {
   "cell_type": "markdown",
   "metadata": {},
   "source": [
    "And a pandas dataframe should be printed when you run this:"
   ]
  },
  {
   "cell_type": "code",
   "execution_count": 21,
   "metadata": {},
   "outputs": [
    {
     "data": {
      "text/html": [
       "<div>\n",
       "<style scoped>\n",
       "    .dataframe tbody tr th:only-of-type {\n",
       "        vertical-align: middle;\n",
       "    }\n",
       "\n",
       "    .dataframe tbody tr th {\n",
       "        vertical-align: top;\n",
       "    }\n",
       "\n",
       "    .dataframe thead th {\n",
       "        text-align: right;\n",
       "    }\n",
       "</style>\n",
       "<table border=\"1\" class=\"dataframe\">\n",
       "  <thead>\n",
       "    <tr style=\"text-align: right;\">\n",
       "      <th></th>\n",
       "      <th>site_id</th>\n",
       "      <th>participant_id</th>\n",
       "      <th>ndar_guid</th>\n",
       "      <th>dx_group</th>\n",
       "      <th>pdd_dsm_iv_tr</th>\n",
       "      <th>asd_dsm_5</th>\n",
       "      <th>age_at_scan</th>\n",
       "      <th>sex</th>\n",
       "      <th>handedness_category</th>\n",
       "      <th>handedness_scores</th>\n",
       "      <th>...</th>\n",
       "      <th>adi_r_c3_total</th>\n",
       "      <th>adi_r_c4_repetitive_use_objects</th>\n",
       "      <th>adi_r_c4_higher</th>\n",
       "      <th>adi_r_c4_unusual_sensory_interests</th>\n",
       "      <th>adi_r_c4_total</th>\n",
       "      <th>adi_r_d_age_parent_noticed</th>\n",
       "      <th>adi_r_d_age_first_single_words</th>\n",
       "      <th>adi_r_d_age_first_phrases</th>\n",
       "      <th>adi_r_d_age_when_abnormality</th>\n",
       "      <th>adi_r_d_interviewer_judgment</th>\n",
       "    </tr>\n",
       "  </thead>\n",
       "  <tbody>\n",
       "    <tr>\n",
       "      <th>0</th>\n",
       "      <td>ABIDEII-GU_1</td>\n",
       "      <td>28752</td>\n",
       "      <td>NaN</td>\n",
       "      <td>1</td>\n",
       "      <td>1.0</td>\n",
       "      <td>NaN</td>\n",
       "      <td>13.076712</td>\n",
       "      <td>1</td>\n",
       "      <td>1.0</td>\n",
       "      <td>NaN</td>\n",
       "      <td>...</td>\n",
       "      <td>1.0</td>\n",
       "      <td>2.0</td>\n",
       "      <td>2.0</td>\n",
       "      <td>1.0</td>\n",
       "      <td>2.0</td>\n",
       "      <td>1.0</td>\n",
       "      <td>0.0</td>\n",
       "      <td>0.0</td>\n",
       "      <td>1.0</td>\n",
       "      <td>1.0</td>\n",
       "    </tr>\n",
       "    <tr>\n",
       "      <th>1</th>\n",
       "      <td>ABIDEII-GU_1</td>\n",
       "      <td>28754</td>\n",
       "      <td>NaN</td>\n",
       "      <td>1</td>\n",
       "      <td>3.0</td>\n",
       "      <td>NaN</td>\n",
       "      <td>9.298630</td>\n",
       "      <td>1</td>\n",
       "      <td>1.0</td>\n",
       "      <td>NaN</td>\n",
       "      <td>...</td>\n",
       "      <td>1.0</td>\n",
       "      <td>1.0</td>\n",
       "      <td>1.0</td>\n",
       "      <td>1.0</td>\n",
       "      <td>1.0</td>\n",
       "      <td>0.0</td>\n",
       "      <td>0.0</td>\n",
       "      <td>0.0</td>\n",
       "      <td>1.0</td>\n",
       "      <td>1.0</td>\n",
       "    </tr>\n",
       "    <tr>\n",
       "      <th>2</th>\n",
       "      <td>ABIDEII-GU_1</td>\n",
       "      <td>28756</td>\n",
       "      <td>NaN</td>\n",
       "      <td>1</td>\n",
       "      <td>2.0</td>\n",
       "      <td>NaN</td>\n",
       "      <td>12.490411</td>\n",
       "      <td>2</td>\n",
       "      <td>2.0</td>\n",
       "      <td>NaN</td>\n",
       "      <td>...</td>\n",
       "      <td>2.0</td>\n",
       "      <td>0.0</td>\n",
       "      <td>1.0</td>\n",
       "      <td>1.0</td>\n",
       "      <td>1.0</td>\n",
       "      <td>1.0</td>\n",
       "      <td>0.0</td>\n",
       "      <td>0.0</td>\n",
       "      <td>1.0</td>\n",
       "      <td>1.0</td>\n",
       "    </tr>\n",
       "    <tr>\n",
       "      <th>3</th>\n",
       "      <td>ABIDEII-GU_1</td>\n",
       "      <td>28758</td>\n",
       "      <td>NaN</td>\n",
       "      <td>1</td>\n",
       "      <td>2.0</td>\n",
       "      <td>NaN</td>\n",
       "      <td>9.868493</td>\n",
       "      <td>2</td>\n",
       "      <td>2.0</td>\n",
       "      <td>NaN</td>\n",
       "      <td>...</td>\n",
       "      <td>2.0</td>\n",
       "      <td>0.0</td>\n",
       "      <td>NaN</td>\n",
       "      <td>0.0</td>\n",
       "      <td>0.0</td>\n",
       "      <td>1.0</td>\n",
       "      <td>0.0</td>\n",
       "      <td>0.0</td>\n",
       "      <td>1.0</td>\n",
       "      <td>1.0</td>\n",
       "    </tr>\n",
       "    <tr>\n",
       "      <th>4</th>\n",
       "      <td>ABIDEII-GU_1</td>\n",
       "      <td>28761</td>\n",
       "      <td>NaN</td>\n",
       "      <td>1</td>\n",
       "      <td>2.0</td>\n",
       "      <td>NaN</td>\n",
       "      <td>11.484932</td>\n",
       "      <td>1</td>\n",
       "      <td>1.0</td>\n",
       "      <td>NaN</td>\n",
       "      <td>...</td>\n",
       "      <td>1.0</td>\n",
       "      <td>1.0</td>\n",
       "      <td>1.0</td>\n",
       "      <td>1.0</td>\n",
       "      <td>1.0</td>\n",
       "      <td>1.0</td>\n",
       "      <td>0.0</td>\n",
       "      <td>0.0</td>\n",
       "      <td>1.0</td>\n",
       "      <td>1.0</td>\n",
       "    </tr>\n",
       "    <tr>\n",
       "      <th>...</th>\n",
       "      <td>...</td>\n",
       "      <td>...</td>\n",
       "      <td>...</td>\n",
       "      <td>...</td>\n",
       "      <td>...</td>\n",
       "      <td>...</td>\n",
       "      <td>...</td>\n",
       "      <td>...</td>\n",
       "      <td>...</td>\n",
       "      <td>...</td>\n",
       "      <td>...</td>\n",
       "      <td>...</td>\n",
       "      <td>...</td>\n",
       "      <td>...</td>\n",
       "      <td>...</td>\n",
       "      <td>...</td>\n",
       "      <td>...</td>\n",
       "      <td>...</td>\n",
       "      <td>...</td>\n",
       "      <td>...</td>\n",
       "      <td>...</td>\n",
       "    </tr>\n",
       "    <tr>\n",
       "      <th>101</th>\n",
       "      <td>ABIDEII-GU_1</td>\n",
       "      <td>28841</td>\n",
       "      <td>NaN</td>\n",
       "      <td>2</td>\n",
       "      <td>0.0</td>\n",
       "      <td>NaN</td>\n",
       "      <td>8.723288</td>\n",
       "      <td>2</td>\n",
       "      <td>1.0</td>\n",
       "      <td>NaN</td>\n",
       "      <td>...</td>\n",
       "      <td>NaN</td>\n",
       "      <td>NaN</td>\n",
       "      <td>NaN</td>\n",
       "      <td>NaN</td>\n",
       "      <td>NaN</td>\n",
       "      <td>NaN</td>\n",
       "      <td>NaN</td>\n",
       "      <td>NaN</td>\n",
       "      <td>NaN</td>\n",
       "      <td>NaN</td>\n",
       "    </tr>\n",
       "    <tr>\n",
       "      <th>102</th>\n",
       "      <td>ABIDEII-GU_1</td>\n",
       "      <td>28842</td>\n",
       "      <td>NaN</td>\n",
       "      <td>2</td>\n",
       "      <td>0.0</td>\n",
       "      <td>NaN</td>\n",
       "      <td>8.408219</td>\n",
       "      <td>1</td>\n",
       "      <td>1.0</td>\n",
       "      <td>NaN</td>\n",
       "      <td>...</td>\n",
       "      <td>NaN</td>\n",
       "      <td>NaN</td>\n",
       "      <td>NaN</td>\n",
       "      <td>NaN</td>\n",
       "      <td>NaN</td>\n",
       "      <td>NaN</td>\n",
       "      <td>NaN</td>\n",
       "      <td>NaN</td>\n",
       "      <td>NaN</td>\n",
       "      <td>NaN</td>\n",
       "    </tr>\n",
       "    <tr>\n",
       "      <th>103</th>\n",
       "      <td>ABIDEII-GU_1</td>\n",
       "      <td>28845</td>\n",
       "      <td>NaN</td>\n",
       "      <td>2</td>\n",
       "      <td>0.0</td>\n",
       "      <td>NaN</td>\n",
       "      <td>8.390000</td>\n",
       "      <td>1</td>\n",
       "      <td>1.0</td>\n",
       "      <td>NaN</td>\n",
       "      <td>...</td>\n",
       "      <td>NaN</td>\n",
       "      <td>NaN</td>\n",
       "      <td>NaN</td>\n",
       "      <td>NaN</td>\n",
       "      <td>NaN</td>\n",
       "      <td>NaN</td>\n",
       "      <td>NaN</td>\n",
       "      <td>NaN</td>\n",
       "      <td>NaN</td>\n",
       "      <td>NaN</td>\n",
       "    </tr>\n",
       "    <tr>\n",
       "      <th>104</th>\n",
       "      <td>ABIDEII-GU_1</td>\n",
       "      <td>28846</td>\n",
       "      <td>NaN</td>\n",
       "      <td>2</td>\n",
       "      <td>0.0</td>\n",
       "      <td>NaN</td>\n",
       "      <td>8.740000</td>\n",
       "      <td>2</td>\n",
       "      <td>1.0</td>\n",
       "      <td>NaN</td>\n",
       "      <td>...</td>\n",
       "      <td>NaN</td>\n",
       "      <td>NaN</td>\n",
       "      <td>NaN</td>\n",
       "      <td>NaN</td>\n",
       "      <td>NaN</td>\n",
       "      <td>NaN</td>\n",
       "      <td>NaN</td>\n",
       "      <td>NaN</td>\n",
       "      <td>NaN</td>\n",
       "      <td>NaN</td>\n",
       "    </tr>\n",
       "    <tr>\n",
       "      <th>105</th>\n",
       "      <td>ABIDEII-GU_1</td>\n",
       "      <td>28847</td>\n",
       "      <td>NaN</td>\n",
       "      <td>2</td>\n",
       "      <td>0.0</td>\n",
       "      <td>NaN</td>\n",
       "      <td>10.490000</td>\n",
       "      <td>1</td>\n",
       "      <td>1.0</td>\n",
       "      <td>NaN</td>\n",
       "      <td>...</td>\n",
       "      <td>NaN</td>\n",
       "      <td>NaN</td>\n",
       "      <td>NaN</td>\n",
       "      <td>NaN</td>\n",
       "      <td>NaN</td>\n",
       "      <td>NaN</td>\n",
       "      <td>NaN</td>\n",
       "      <td>NaN</td>\n",
       "      <td>NaN</td>\n",
       "      <td>NaN</td>\n",
       "    </tr>\n",
       "  </tbody>\n",
       "</table>\n",
       "<p>106 rows × 348 columns</p>\n",
       "</div>"
      ],
      "text/plain": [
       "          site_id  participant_id  ndar_guid  dx_group  pdd_dsm_iv_tr  \\\n",
       "0    ABIDEII-GU_1           28752        NaN         1            1.0   \n",
       "1    ABIDEII-GU_1           28754        NaN         1            3.0   \n",
       "2    ABIDEII-GU_1           28756        NaN         1            2.0   \n",
       "3    ABIDEII-GU_1           28758        NaN         1            2.0   \n",
       "4    ABIDEII-GU_1           28761        NaN         1            2.0   \n",
       "..            ...             ...        ...       ...            ...   \n",
       "101  ABIDEII-GU_1           28841        NaN         2            0.0   \n",
       "102  ABIDEII-GU_1           28842        NaN         2            0.0   \n",
       "103  ABIDEII-GU_1           28845        NaN         2            0.0   \n",
       "104  ABIDEII-GU_1           28846        NaN         2            0.0   \n",
       "105  ABIDEII-GU_1           28847        NaN         2            0.0   \n",
       "\n",
       "     asd_dsm_5  age_at_scan   sex  handedness_category  handedness_scores  \\\n",
       "0          NaN     13.076712    1                  1.0                NaN   \n",
       "1          NaN      9.298630    1                  1.0                NaN   \n",
       "2          NaN     12.490411    2                  2.0                NaN   \n",
       "3          NaN      9.868493    2                  2.0                NaN   \n",
       "4          NaN     11.484932    1                  1.0                NaN   \n",
       "..         ...           ...  ...                  ...                ...   \n",
       "101        NaN      8.723288    2                  1.0                NaN   \n",
       "102        NaN      8.408219    1                  1.0                NaN   \n",
       "103        NaN      8.390000    1                  1.0                NaN   \n",
       "104        NaN      8.740000    2                  1.0                NaN   \n",
       "105        NaN     10.490000    1                  1.0                NaN   \n",
       "\n",
       "     ...  adi_r_c3_total  adi_r_c4_repetitive_use_objects  adi_r_c4_higher  \\\n",
       "0    ...             1.0                              2.0              2.0   \n",
       "1    ...             1.0                              1.0              1.0   \n",
       "2    ...             2.0                              0.0              1.0   \n",
       "3    ...             2.0                              0.0              NaN   \n",
       "4    ...             1.0                              1.0              1.0   \n",
       "..   ...             ...                              ...              ...   \n",
       "101  ...             NaN                              NaN              NaN   \n",
       "102  ...             NaN                              NaN              NaN   \n",
       "103  ...             NaN                              NaN              NaN   \n",
       "104  ...             NaN                              NaN              NaN   \n",
       "105  ...             NaN                              NaN              NaN   \n",
       "\n",
       "    adi_r_c4_unusual_sensory_interests adi_r_c4_total  \\\n",
       "0                                  1.0            2.0   \n",
       "1                                  1.0            1.0   \n",
       "2                                  1.0            1.0   \n",
       "3                                  0.0            0.0   \n",
       "4                                  1.0            1.0   \n",
       "..                                 ...            ...   \n",
       "101                                NaN            NaN   \n",
       "102                                NaN            NaN   \n",
       "103                                NaN            NaN   \n",
       "104                                NaN            NaN   \n",
       "105                                NaN            NaN   \n",
       "\n",
       "    adi_r_d_age_parent_noticed  adi_r_d_age_first_single_words  \\\n",
       "0                          1.0                             0.0   \n",
       "1                          0.0                             0.0   \n",
       "2                          1.0                             0.0   \n",
       "3                          1.0                             0.0   \n",
       "4                          1.0                             0.0   \n",
       "..                         ...                             ...   \n",
       "101                        NaN                             NaN   \n",
       "102                        NaN                             NaN   \n",
       "103                        NaN                             NaN   \n",
       "104                        NaN                             NaN   \n",
       "105                        NaN                             NaN   \n",
       "\n",
       "     adi_r_d_age_first_phrases  adi_r_d_age_when_abnormality  \\\n",
       "0                          0.0                           1.0   \n",
       "1                          0.0                           1.0   \n",
       "2                          0.0                           1.0   \n",
       "3                          0.0                           1.0   \n",
       "4                          0.0                           1.0   \n",
       "..                         ...                           ...   \n",
       "101                        NaN                           NaN   \n",
       "102                        NaN                           NaN   \n",
       "103                        NaN                           NaN   \n",
       "104                        NaN                           NaN   \n",
       "105                        NaN                           NaN   \n",
       "\n",
       "     adi_r_d_interviewer_judgment  \n",
       "0                             1.0  \n",
       "1                             1.0  \n",
       "2                             1.0  \n",
       "3                             1.0  \n",
       "4                             1.0  \n",
       "..                            ...  \n",
       "101                           NaN  \n",
       "102                           NaN  \n",
       "103                           NaN  \n",
       "104                           NaN  \n",
       "105                           NaN  \n",
       "\n",
       "[106 rows x 348 columns]"
      ]
     },
     "execution_count": 21,
     "metadata": {},
     "output_type": "execute_result"
    }
   ],
   "source": [
    "myBIDS.pcsv"
   ]
  },
  {
   "cell_type": "markdown",
   "metadata": {},
   "source": [
    "If we want to actually download some data, we can do this with the subject class. "
   ]
  },
  {
   "cell_type": "code",
   "execution_count": 11,
   "metadata": {},
   "outputs": [],
   "source": [
    "from cnbpy.datalad import Subject"
   ]
  },
  {
   "cell_type": "code",
   "execution_count": 12,
   "metadata": {},
   "outputs": [],
   "source": [
    "mysubject=Subject(DSET,'28846')"
   ]
  },
  {
   "cell_type": "markdown",
   "metadata": {},
   "source": [
    "This subject's data is now downloaded.  "
   ]
  },
  {
   "cell_type": "code",
   "execution_count": 13,
   "metadata": {},
   "outputs": [],
   "source": [
    "mysubject.get()"
   ]
  },
  {
   "cell_type": "markdown",
   "metadata": {},
   "source": [
    "We can remove as follows. "
   ]
  },
  {
   "cell_type": "code",
   "execution_count": 26,
   "metadata": {},
   "outputs": [],
   "source": [
    "mysubject.drop()"
   ]
  },
  {
   "cell_type": "markdown",
   "metadata": {},
   "source": [
    "And also re-add them just as easily."
   ]
  },
  {
   "cell_type": "code",
   "execution_count": 27,
   "metadata": {},
   "outputs": [],
   "source": [
    "mysubject.get()"
   ]
  },
  {
   "cell_type": "markdown",
   "metadata": {},
   "source": [
    "We can remove the entire dataset as follows."
   ]
  },
  {
   "cell_type": "code",
   "execution_count": 65,
   "metadata": {},
   "outputs": [],
   "source": [
    "DSET.remove()"
   ]
  },
  {
   "cell_type": "code",
   "execution_count": null,
   "metadata": {},
   "outputs": [],
   "source": []
  }
 ],
 "metadata": {
  "kernelspec": {
   "display_name": "Python 3",
   "language": "python",
   "name": "python3"
  },
  "language_info": {
   "codemirror_mode": {
    "name": "ipython",
    "version": 3
   },
   "file_extension": ".py",
   "mimetype": "text/x-python",
   "name": "python",
   "nbconvert_exporter": "python",
   "pygments_lexer": "ipython3",
   "version": "3.6.10"
  }
 },
 "nbformat": 4,
 "nbformat_minor": 4
}
