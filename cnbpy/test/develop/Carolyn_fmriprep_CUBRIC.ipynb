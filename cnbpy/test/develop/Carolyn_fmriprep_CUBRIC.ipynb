{
 "cells": [
  {
   "cell_type": "markdown",
   "metadata": {
    "tags": []
   },
   "source": [
    "## fMRIprep ANALYSIS FOR WELSH ADVANCED NEUROIMAGING DATABASE\n",
    "\n",
    "This code will run fMRIprep using the CUBRIC computing cluster and is set up to work on data from the WAND project. Important scripts you need to be aware of are: </br>\n",
    "- `fmriprep_cubric.py` in the `cnbpy/cnbpy` folder: this script contains the python code that is used to set up the analysis and send the job to the cluster\n",
    "- `template_cubric.sh` in the `cnbpy/cnbpy/test/data` folder: this is the SLURM script that will tell the cluster what job to run\n",
    "- `fmriprep_config_cubric.yml` in the `cnbpy/cnbpy/test/data` folder: this script contains the dictionary that is used to populate the SLURM script\n",
    "</br>\n",
    "\n",
    "At the moment, this script will run all participants in the directory, but I will write another one to do one at a time using an array.\n"
   ]
  },
  {
   "cell_type": "markdown",
   "metadata": {},
   "source": [
    "### Initial set up and importing of libraries"
   ]
  },
  {
   "cell_type": "code",
   "execution_count": 1,
   "metadata": {},
   "outputs": [],
   "source": [
    "%load_ext autoreload\n",
    "%autoreload 2\n",
    "import os"
   ]
  },
  {
   "cell_type": "markdown",
   "metadata": {},
   "source": [
    "### Set path to this repository"
   ]
  },
  {
   "cell_type": "code",
   "execution_count": 4,
   "metadata": {},
   "outputs": [],
   "source": [
    "os.chdir('/home/sapcm15/gitlab/cnbpy')"
   ]
  },
  {
   "cell_type": "markdown",
   "metadata": {},
   "source": [
    "### Import code from cnbpy library"
   ]
  },
  {
   "cell_type": "code",
   "execution_count": null,
   "metadata": {},
   "outputs": [],
   "source": [
    "from cnbpy.fmriprep_cubric import FMRIPREP"
   ]
  },
  {
   "cell_type": "markdown",
   "metadata": {},
   "source": [
    "### Set up job scripts\n",
    "First, create an object called `myfmriprep` that loads the `FMRIPREP` code and provides a name for the SLURM job - in this case \"WAND_fmriprep\""
   ]
  },
  {
   "cell_type": "code",
   "execution_count": 6,
   "metadata": {},
   "outputs": [],
   "source": [
    "myfmriprep=FMRIPREP(jobname='WAND_fmriprep')"
   ]
  },
  {
   "cell_type": "markdown",
   "metadata": {},
   "source": [
    "Use the `populate_all` function from `FMRIPREP` to populate the fields in `template_cubric.sh` using the dictionary provided in `fmriprep_config_cubric.yml`"
   ]
  },
  {
   "cell_type": "code",
   "execution_count": 7,
   "metadata": {},
   "outputs": [],
   "source": [
    "myfmriprep.populate_all()"
   ]
  },
  {
   "cell_type": "markdown",
   "metadata": {},
   "source": [
    "Write the new, populated SLURM code to a text file called `WAND_fmriprep_allsubs.sh` or whatever you defined as the job name in the line above. The job file will be saved to the location you defined as the `job_path` in `fmriprep_config_cubric.yml`, e.g., ` job_path: '/cubric/newscratch/314_wand/temp_cm/fmriprep_test/derivatives/fmriprep/jobs'`. "
   ]
  },
  {
   "cell_type": "code",
   "execution_count": 8,
   "metadata": {},
   "outputs": [],
   "source": [
    "myfmriprep.writeout()"
   ]
  },
  {
   "cell_type": "markdown",
   "metadata": {},
   "source": [
    "### Run on the cluster\n",
    "Use the `execute` function from `FMRIPREP` to send the SLURM job file to the cluster. The error and output files will be written to the same location as the job file. The output of fMRIprep will be written to the location you defined as `outpath_base` in `fmriprep_config_cubric.yml`, e.g.,  `outpath_base: '/cubric/newscratch/314_wand/temp_cm/fmriprep_test/derivatives/fmriprep/preprocessed'`."
   ]
  },
  {
   "cell_type": "code",
   "execution_count": 21,
   "metadata": {},
   "outputs": [
    {
     "name": "stdout",
     "output_type": "stream",
     "text": [
      "job WAND_fmriprep_allsubs sent to slurm\n",
      "You can view in the queue via squeue -u (my username)\n"
     ]
    }
   ],
   "source": [
    "myfmriprep.execute()"
   ]
  }
 ],
 "metadata": {
  "kernelspec": {
   "display_name": "Python 3",
   "language": "python",
   "name": "python3"
  },
  "language_info": {
   "codemirror_mode": {
    "name": "ipython",
    "version": 3
   },
   "file_extension": ".py",
   "mimetype": "text/x-python",
   "name": "python",
   "nbconvert_exporter": "python",
   "pygments_lexer": "ipython3",
   "version": "3.6.8"
  }
 },
 "nbformat": 4,
 "nbformat_minor": 4
}
