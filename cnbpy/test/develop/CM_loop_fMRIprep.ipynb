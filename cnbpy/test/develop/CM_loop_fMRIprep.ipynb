{
 "cells": [
  {
   "cell_type": "code",
   "execution_count": 1,
   "metadata": {},
   "outputs": [],
   "source": [
    "%load_ext autoreload\n",
    "%autoreload 2"
   ]
  },
  {
   "cell_type": "markdown",
   "metadata": {},
   "source": [
    "Here I import the Dataset and Subject classes."
   ]
  },
  {
   "cell_type": "code",
   "execution_count": 2,
   "metadata": {},
   "outputs": [],
   "source": [
    "from cnbpy.datalad import Dataset,Subject"
   ]
  },
  {
   "cell_type": "markdown",
   "metadata": {},
   "source": [
    "I then define the dataset to be downloaded to a location that should also be readable to you."
   ]
  },
  {
   "cell_type": "code",
   "execution_count": 3,
   "metadata": {},
   "outputs": [],
   "source": [
    "mydata=Dataset(local_base='/storage/research/cinn_comp/cnbpy_Resources/datalad_test',source='///abide/RawDataBIDS/Caltech')"
   ]
  },
  {
   "cell_type": "markdown",
   "metadata": {},
   "source": [
    "I then 'install' it. Recall that this doesnt actually download anything just yet."
   ]
  },
  {
   "cell_type": "code",
   "execution_count": 4,
   "metadata": {},
   "outputs": [],
   "source": [
    "mydata.install()"
   ]
  },
  {
   "cell_type": "code",
   "execution_count": 5,
   "metadata": {},
   "outputs": [],
   "source": [
    "from cnbpy.bids import BIDS\n",
    "\n",
    "mybids=BIDS(mydata.dset.path)"
   ]
  },
  {
   "cell_type": "markdown",
   "metadata": {},
   "source": [
    "I now use the BIDS class to see what subjects are available."
   ]
  },
  {
   "cell_type": "code",
   "execution_count": null,
   "metadata": {},
   "outputs": [],
   "source": [
    "mybids.subjects\n"
   ]
  },
  {
   "cell_type": "markdown",
   "metadata": {},
   "source": [
    "Loop through all of these subjects and run fMRIprep - super hacky!"
   ]
  },
  {
   "cell_type": "code",
   "execution_count": null,
   "metadata": {},
   "outputs": [],
   "source": [
    "import nibabel as nib\n",
    "from cnbpy.fmriprep import FMRIPREP\n",
    "\n",
    "# Loop through all subjects in the list and run fMRI prep\n",
    "#set count to 0 (corresponding to the first subject in the list)\n",
    "count = 0\n",
    "#for every subject in mybids.subjects, do:\n",
    "for s in mybids.subjects:\n",
    "    #create a variable called mysub that tells us where the subject data are located\n",
    "    mysub=Subject(mydata,subid=mybids.subjects[count])\n",
    "    #print the subject ID\n",
    "    print(\"Working on sub-\", mybids.subjects[count])\n",
    "    #Retrieve that subject's data from datalad\n",
    "    mysub.get()\n",
    "    #get the anatomical file\n",
    "    anat=mybids.find_anats(sub=s)\n",
    "    #load the anatomical file using nibabel\n",
    "    nm=nib.load(anat[-1])\n",
    "    #get the rest of the data for that subject?\n",
    "    dat=nm.get_data()\n",
    "    #get the tsv file for that participant\n",
    "    mydata.get_info_files()\n",
    "    \n",
    "    #set up frmiprep job\n",
    "    myfmriprep=FMRIPREP(jobname='Carolyn_job',pid=mybids.subjects[count])\n",
    "    #create the SLURM job file and print it so I can see\n",
    "    myfmriprep.populate_all()\n",
    "    print(myfmriprep.working_string)\n",
    "    \n",
    "    #send the job to the cluster\n",
    "    #myfmriprep.writeout()\n",
    "    #myfmriprep.execute()\n",
    "    \n",
    "    #add 1 to the count to move to the next participant\n",
    "    count = count + 1\n"
   ]
  },
  {
   "cell_type": "markdown",
   "metadata": {},
   "source": [
    "Now we can remove the data"
   ]
  },
  {
   "cell_type": "code",
   "execution_count": 16,
   "metadata": {},
   "outputs": [],
   "source": [
    "mydata.remove()"
   ]
  }
 ],
 "metadata": {
  "kernelspec": {
   "display_name": "Python 3",
   "language": "python",
   "name": "python3"
  },
  "language_info": {
   "codemirror_mode": {
    "name": "ipython",
    "version": 3
   },
   "file_extension": ".py",
   "mimetype": "text/x-python",
   "name": "python",
   "nbconvert_exporter": "python",
   "pygments_lexer": "ipython3",
   "version": "3.6.10"
  }
 },
 "nbformat": 4,
 "nbformat_minor": 4
}
