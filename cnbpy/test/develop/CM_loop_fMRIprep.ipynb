{
 "cells": [
  {
   "cell_type": "code",
   "execution_count": 4,
   "metadata": {},
   "outputs": [],
   "source": [
    "%load_ext autoreload\n",
    "%autoreload 2"
   ]
  },
  {
   "cell_type": "markdown",
   "metadata": {},
   "source": [
    "Here I import the Dataset and Subject classes."
   ]
  },
  {
   "cell_type": "code",
   "execution_count": 5,
   "metadata": {},
   "outputs": [],
   "source": [
    "from cnbpy.datalad import Dataset,Subject"
   ]
  },
  {
   "cell_type": "markdown",
   "metadata": {},
   "source": [
    "I then define the dataset to be downloaded to a location that should also be readable to you."
   ]
  },
  {
   "cell_type": "code",
   "execution_count": 6,
   "metadata": {},
   "outputs": [],
   "source": [
    "mydata=Dataset(local_base='/storage/research/cinn_comp/cnbpy_Resources/datalad_test',source='///abide/RawDataBIDS/Caltech')"
   ]
  },
  {
   "cell_type": "markdown",
   "metadata": {},
   "source": [
    "I then 'install' it. Recall that this doesnt actually download anything just yet."
   ]
  },
  {
   "cell_type": "code",
   "execution_count": 7,
   "metadata": {},
   "outputs": [],
   "source": [
    "mydata.install()"
   ]
  },
  {
   "cell_type": "code",
   "execution_count": 8,
   "metadata": {},
   "outputs": [],
   "source": [
    "from cnbpy.bids import BIDS\n",
    "\n",
    "mybids=BIDS(mydata.dset.path)"
   ]
  },
  {
   "cell_type": "markdown",
   "metadata": {},
   "source": [
    "I now use the BIDS class to see what subjects are available."
   ]
  },
  {
   "cell_type": "code",
   "execution_count": 10,
   "metadata": {},
   "outputs": [
    {
     "name": "stdout",
     "output_type": "stream",
     "text": [
      "['0051456', '0051457', '0051458']\n"
     ]
    }
   ],
   "source": [
    "mybids.subjects\n",
    "subset=mybids.subjects[0:3]\n",
    "print(subset)"
   ]
  },
  {
   "cell_type": "markdown",
   "metadata": {},
   "source": [
    "Loop through all of these subjects and run fMRIprep - super hacky!"
   ]
  },
  {
   "cell_type": "code",
   "execution_count": 11,
   "metadata": {},
   "outputs": [
    {
     "name": "stdout",
     "output_type": "stream",
     "text": [
      "Working on sub- 0051456\n"
     ]
    },
    {
     "name": "stderr",
     "output_type": "stream",
     "text": [
      "/home/users/sa917034/.conda/envs/p3env/lib/python3.6/site-packages/ipykernel_launcher.py:20: DeprecationWarning: get_data() is deprecated in favor of get_fdata(), which has a more predictable return type. To obtain get_data() behavior going forward, use numpy.asanyarray(img.dataobj).\n",
      "\n",
      "* deprecated from version: 3.0\n",
      "* Will raise <class 'nibabel.deprecator.ExpiredDeprecationError'> as of version: 5.0\n"
     ]
    },
    {
     "name": "stdout",
     "output_type": "stream",
     "text": [
      "hello carolyn\n",
      "#!/bin/bash\n",
      "\n",
      "#SBATCH -J Carolyn_job_0051456\n",
      "#SBATCH -N 1-1\n",
      "#SBATCH --cpus-per-task=16\n",
      "#SBATCH --mem-per-cpu=4G\n",
      "#SBATCH --mail-user=sa917034@reading.ac.uk\n",
      "#SBATCH --error=/storage/research/cinn_comp/cnbpy_Resources/JOBS/Carolyn_job_0051456.err\n",
      "#SBATCH --output=/storage/research/cinn_comp/cnbpy_Resources/JOBS/Carolyn_job_0051456.out\n",
      "#SBATCH --mail-type=ALL\n",
      "\n",
      "export SINGULARITYENV_TEMPLATEFLOW_HOME=/templateflow\n",
      "\n",
      "\n",
      "\n",
      "singularity run --cleanenv -B /storage/research/cinn_comp/cnbpy_Resources/freesurfer:/freesurfer -B /storage/research/cinn_comp/cnbpy_Resources/templateflow:/templateflow -B /storage/research/cinn_comp/cnbpy_Resources/WORK/Carolyn_job_0051456:/work -B /storage/research/cinn_comp/cnbpy_Resources/OUTPUT/Carolyn_job_0051456:/out -B /storage/research/cinn_comp/cnbpy_Resources/datalad_test:/data /storage/research/cinn_comp/cnbpy_Resources/poldracklab_fmriprep_latest-2020-04-09-30f9d1d80eba.simg /data /out participant --participant-label 0051456 -w /work --output-spaces MNI152NLin2009cAsym fsaverage5 --mem_mb 30000 --omp-nthreads 8 --nthreads 12 --fs-license-file /freesurfer/license.txt --write-graph --ignore slicetiming --low-mem\n",
      "\n",
      "\n",
      "Working on sub- 0051457\n"
     ]
    },
    {
     "name": "stderr",
     "output_type": "stream",
     "text": [
      "/home/users/sa917034/.conda/envs/p3env/lib/python3.6/site-packages/ipykernel_launcher.py:20: DeprecationWarning: get_data() is deprecated in favor of get_fdata(), which has a more predictable return type. To obtain get_data() behavior going forward, use numpy.asanyarray(img.dataobj).\n",
      "\n",
      "* deprecated from version: 3.0\n",
      "* Will raise <class 'nibabel.deprecator.ExpiredDeprecationError'> as of version: 5.0\n"
     ]
    },
    {
     "name": "stdout",
     "output_type": "stream",
     "text": [
      "hello carolyn\n",
      "#!/bin/bash\n",
      "\n",
      "#SBATCH -J Carolyn_job_0051457\n",
      "#SBATCH -N 1-1\n",
      "#SBATCH --cpus-per-task=16\n",
      "#SBATCH --mem-per-cpu=4G\n",
      "#SBATCH --mail-user=sa917034@reading.ac.uk\n",
      "#SBATCH --error=/storage/research/cinn_comp/cnbpy_Resources/JOBS/Carolyn_job_0051457.err\n",
      "#SBATCH --output=/storage/research/cinn_comp/cnbpy_Resources/JOBS/Carolyn_job_0051457.out\n",
      "#SBATCH --mail-type=ALL\n",
      "\n",
      "export SINGULARITYENV_TEMPLATEFLOW_HOME=/templateflow\n",
      "\n",
      "\n",
      "\n",
      "singularity run --cleanenv -B /storage/research/cinn_comp/cnbpy_Resources/freesurfer:/freesurfer -B /storage/research/cinn_comp/cnbpy_Resources/templateflow:/templateflow -B /storage/research/cinn_comp/cnbpy_Resources/WORK/Carolyn_job_0051457:/work -B /storage/research/cinn_comp/cnbpy_Resources/OUTPUT/Carolyn_job_0051457:/out -B /storage/research/cinn_comp/cnbpy_Resources/datalad_test:/data /storage/research/cinn_comp/cnbpy_Resources/poldracklab_fmriprep_latest-2020-04-09-30f9d1d80eba.simg /data /out participant --participant-label 0051457 -w /work --output-spaces MNI152NLin2009cAsym fsaverage5 --mem_mb 30000 --omp-nthreads 8 --nthreads 12 --fs-license-file /freesurfer/license.txt --write-graph --ignore slicetiming --low-mem\n",
      "\n",
      "\n",
      "Working on sub- 0051458\n"
     ]
    },
    {
     "name": "stderr",
     "output_type": "stream",
     "text": [
      "/home/users/sa917034/.conda/envs/p3env/lib/python3.6/site-packages/ipykernel_launcher.py:20: DeprecationWarning: get_data() is deprecated in favor of get_fdata(), which has a more predictable return type. To obtain get_data() behavior going forward, use numpy.asanyarray(img.dataobj).\n",
      "\n",
      "* deprecated from version: 3.0\n",
      "* Will raise <class 'nibabel.deprecator.ExpiredDeprecationError'> as of version: 5.0\n"
     ]
    },
    {
     "name": "stdout",
     "output_type": "stream",
     "text": [
      "hello carolyn\n",
      "#!/bin/bash\n",
      "\n",
      "#SBATCH -J Carolyn_job_0051458\n",
      "#SBATCH -N 1-1\n",
      "#SBATCH --cpus-per-task=16\n",
      "#SBATCH --mem-per-cpu=4G\n",
      "#SBATCH --mail-user=sa917034@reading.ac.uk\n",
      "#SBATCH --error=/storage/research/cinn_comp/cnbpy_Resources/JOBS/Carolyn_job_0051458.err\n",
      "#SBATCH --output=/storage/research/cinn_comp/cnbpy_Resources/JOBS/Carolyn_job_0051458.out\n",
      "#SBATCH --mail-type=ALL\n",
      "\n",
      "export SINGULARITYENV_TEMPLATEFLOW_HOME=/templateflow\n",
      "\n",
      "\n",
      "\n",
      "singularity run --cleanenv -B /storage/research/cinn_comp/cnbpy_Resources/freesurfer:/freesurfer -B /storage/research/cinn_comp/cnbpy_Resources/templateflow:/templateflow -B /storage/research/cinn_comp/cnbpy_Resources/WORK/Carolyn_job_0051458:/work -B /storage/research/cinn_comp/cnbpy_Resources/OUTPUT/Carolyn_job_0051458:/out -B /storage/research/cinn_comp/cnbpy_Resources/datalad_test:/data /storage/research/cinn_comp/cnbpy_Resources/poldracklab_fmriprep_latest-2020-04-09-30f9d1d80eba.simg /data /out participant --participant-label 0051458 -w /work --output-spaces MNI152NLin2009cAsym fsaverage5 --mem_mb 30000 --omp-nthreads 8 --nthreads 12 --fs-license-file /freesurfer/license.txt --write-graph --ignore slicetiming --low-mem\n",
      "\n",
      "\n"
     ]
    }
   ],
   "source": [
    "import nibabel as nib\n",
    "from cnbpy.fmriprep import FMRIPREP\n",
    "\n",
    "# Loop through all subjects in the list and run fMRI prep\n",
    "#set count to 0 (corresponding to the first subject in the list)\n",
    "count = 0\n",
    "#for every subject in mybids.subjects, do:\n",
    "for s in subset:\n",
    "    #create a variable called mysub that tells us where the subject data are located\n",
    "    mysub=Subject(mydata,subid=mybids.subjects[count])\n",
    "    #print the subject ID\n",
    "    print(\"Working on sub-\", mybids.subjects[count])\n",
    "    #Retrieve that subject's data from datalad\n",
    "    mysub.get()\n",
    "    #get the anatomical file\n",
    "    anat=mybids.find_anats(sub=s)\n",
    "    #load the anatomical file using nibabel\n",
    "    nm=nib.load(anat[-1])\n",
    "    #get the rest of the data for that subject?\n",
    "    dat=nm.get_data()\n",
    "    #get the tsv file for that participant\n",
    "    mydata.get_info_files()\n",
    "    \n",
    "    #set up frmiprep job\n",
    "    myfmriprep=FMRIPREP(jobname='Carolyn_job',pid=mybids.subjects[count])\n",
    "    #create the SLURM job file and print it so I can see\n",
    "    myfmriprep.populate_all()\n",
    "    print(myfmriprep.working_string)\n",
    "    \n",
    "    #send the job to the cluster\n",
    "    #myfmriprep.writeout()\n",
    "    #myfmriprep.execute()\n",
    "    \n",
    "    #add 1 to the count to move to the next participant\n",
    "    count = count + 1\n"
   ]
  },
  {
   "cell_type": "markdown",
   "metadata": {},
   "source": [
    "Now we can remove the data"
   ]
  },
  {
   "cell_type": "code",
   "execution_count": 16,
   "metadata": {},
   "outputs": [],
   "source": [
    "mydata.remove()"
   ]
  }
 ],
 "metadata": {
  "kernelspec": {
   "display_name": "Python 3",
   "language": "python",
   "name": "python3"
  },
  "language_info": {
   "codemirror_mode": {
    "name": "ipython",
    "version": 3
   },
   "file_extension": ".py",
   "mimetype": "text/x-python",
   "name": "python",
   "nbconvert_exporter": "python",
   "pygments_lexer": "ipython3",
   "version": "3.6.10"
  }
 },
 "nbformat": 4,
 "nbformat_minor": 4
}
