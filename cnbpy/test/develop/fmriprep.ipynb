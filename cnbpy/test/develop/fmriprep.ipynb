{
 "cells": [
  {
   "cell_type": "markdown",
   "metadata": {},
   "source": [
    "# FMRIPREP stuff"
   ]
  },
  {
   "cell_type": "code",
   "execution_count": 1,
   "metadata": {},
   "outputs": [
    {
     "name": "stderr",
     "output_type": "stream",
     "text": [
      "It is highly recommended to configure Git before using DataLad. Set both 'user.name' and 'user.email' configuration variables.\n",
      "It is highly recommended to configure Git before using DataLad. Set both 'user.name' and 'user.email' configuration variables.\n"
     ]
    }
   ],
   "source": [
    "%load_ext autoreload\n",
    "%autoreload 2\n",
    "from cnbpy.fmriprep import FMRIPREP"
   ]
  },
  {
   "cell_type": "markdown",
   "metadata": {},
   "source": [
    "## What do we want the FMRIPREP class to do?\n",
    "\n",
    "1. Read in information about an fmriprep job from a yaml file.\n",
    "2. Populate a template jobscript with this information.\n",
    "3. Create directories for the job.\n",
    "4. Write out the modified jobscript.\n",
    "5. Execute the jobscript.\n",
    "\n",
    "\n",
    "The approach is based on this absolute mess: https://github.com/N-HEDGER/NEURO_PYTHON/tree/master/FMRIPREP_SINGULARITY_SLURM"
   ]
  },
  {
   "cell_type": "markdown",
   "metadata": {},
   "source": [
    "## Illustration of what has been done so far. "
   ]
  },
  {
   "cell_type": "markdown",
   "metadata": {},
   "source": [
    "We define an FMRIPREP object. This reads in a template .sh file and information from a yaml file. These files are both in /test/data. The yaml file is annotated to illlustrate what different parts mean.\n",
    "\n",
    "You can specify your own yaml file and template file with yaml_file= ,template_file= but by default it will read those in the repository. (in *test/data*)."
   ]
  },
  {
   "cell_type": "code",
   "execution_count": 3,
   "metadata": {},
   "outputs": [],
   "source": [
    "myfmriprep=FMRIPREP(jobname='nick_fmriprep3',pid='28846')"
   ]
  },
  {
   "cell_type": "markdown",
   "metadata": {},
   "source": [
    "We can view the current version of the script as follows. This is a bunch of placeholders which will be populated by the information in the yaml file. "
   ]
  },
  {
   "cell_type": "code",
   "execution_count": 4,
   "metadata": {},
   "outputs": [
    {
     "name": "stdout",
     "output_type": "stream",
     "text": [
      "#!/bin/bash\n",
      "\n",
      "#SBATCH -J ---J---\n",
      "#SBATCH -N ---N---\n",
      "#SBATCH --cpus-per-task=---cpus-per-task---\n",
      "#SBATCH --mem-per-cpu=---mem-per-cpu---\n",
      "#SBATCH --mail-user=---mail-user---\n",
      "#SBATCH --error=---error---\n",
      "#SBATCH --output=---output---\n",
      "#SBATCH --mail-type=ALL\n",
      "\n",
      "export SINGULARITYENV_TEMPLATEFLOW_HOME=---tfpath---\n",
      "\n",
      "\n",
      "\n",
      "singularity run --cleanenv ---mounts--- ---imagepath--- ---datapath--- ---outpath--- ---analysis_level--- --participant-label ---pid--- -w ---workpath--- --output-spaces ---output_spaces--- --mem_mb ---mem_mb--- --omp-nthreads ---ot--- --nthreads ---nt--- --fs-license-file ---fsli--- ---optionals---\n",
      "\n",
      "\n"
     ]
    }
   ],
   "source": [
    "print(myfmriprep.working_string)"
   ]
  },
  {
   "cell_type": "markdown",
   "metadata": {},
   "source": [
    "This needs to be populated by stuff that exists in the yaml file"
   ]
  },
  {
   "cell_type": "code",
   "execution_count": 5,
   "metadata": {},
   "outputs": [
    {
     "data": {
      "text/plain": [
       "{'slurm': {'---cpus-per-task---': '16',\n",
       "  '---mem-per-cpu---': '4G',\n",
       "  '---mail-user---': 'yg916972@reading.ac.uk',\n",
       "  '---N---': '1-1',\n",
       "  '---J---': 'nick_fmriprep3_28846',\n",
       "  '---error---': '/storage/research/cinn_comp/cnbpy_Resources/JOBS/nick_fmriprep3_28846.err',\n",
       "  '---output---': '/storage/research/cinn_comp/cnbpy_Resources/JOBS/nick_fmriprep3_28846.out'},\n",
       " 'lpaths': {'---fsli---': '/storage/research/cinn_comp/cnbpy_Resources/freesurfer/license.txt',\n",
       "  '---fspath---': '/storage/research/cinn_comp/cnbpy_Resources/freesurfer',\n",
       "  '---tfpath---': '/storage/research/cinn_comp/cnbpy_Resources/templateflow',\n",
       "  '---datapath---': '/storage/research/cinn_comp/cnbpy_Resources/FMRIPREP_EXAMP',\n",
       "  '---imagepath---': '/storage/research/cinn_comp/cnbpy_Resources/poldracklab_fmriprep_latest-2020-04-09-30f9d1d80eba.simg',\n",
       "  'job_path': '/storage/research/cinn_comp/cnbpy_Resources/JOBS',\n",
       "  'job_wildcard': '{jobname}.sh',\n",
       "  'err_wildcard': '{jobname}.err',\n",
       "  'outfile_wildcard': '{jobname}.out',\n",
       "  'workpath_base': '/storage/research/cinn_comp/cnbpy_Resources/WORK',\n",
       "  'outpath_base': '/storage/research/cinn_comp/cnbpy_Resources/OUTPUT',\n",
       "  '---outpath---': '/storage/research/cinn_comp/cnbpy_Resources/OUTPUT/nick_fmriprep3_28846',\n",
       "  '---workpath---': '/storage/research/cinn_comp/cnbpy_Resources/WORK/nick_fmriprep3_28846'},\n",
       " 'spaths': {'---fsli---': '/freesurfer/license.txt',\n",
       "  '---fspath---': '/freesurfer',\n",
       "  '---workpath---': '/work',\n",
       "  '---outpath---': '/out',\n",
       "  '---datapath---': '/data',\n",
       "  '---tfpath---': '/templateflow'},\n",
       " 'mounts': {'st_paths2mount': ['---fspath---',\n",
       "   '---tfpath---',\n",
       "   '---workpath---',\n",
       "   '---outpath---',\n",
       "   '---datapath---']},\n",
       " 'execution': {'---type---': 'sbatch', '---execute---': False},\n",
       " 'call': {'---output_spaces---': 'MNI152NLin2009cAsym',\n",
       "  '---optionals---': '--write-graph --ignore slicetiming --low-mem --fs-no-reconall',\n",
       "  '---mem_mb---': '30000',\n",
       "  '---ot---': '8',\n",
       "  '---nt---': '12',\n",
       "  '---analysis_level---': 'participant',\n",
       "  '---pid---': '28846'}}"
      ]
     },
     "execution_count": 5,
     "metadata": {},
     "output_type": "execute_result"
    }
   ],
   "source": [
    "myfmriprep.yaml"
   ]
  },
  {
   "cell_type": "markdown",
   "metadata": {},
   "source": [
    "We can populate as follows. (not finished)"
   ]
  },
  {
   "cell_type": "code",
   "execution_count": 6,
   "metadata": {},
   "outputs": [],
   "source": [
    "myfmriprep.populate_all()"
   ]
  },
  {
   "cell_type": "code",
   "execution_count": 7,
   "metadata": {},
   "outputs": [
    {
     "data": {
      "text/plain": [
       "{'---cpus-per-task---': '16',\n",
       " '---mem-per-cpu---': '4G',\n",
       " '---mail-user---': 'yg916972@reading.ac.uk',\n",
       " '---N---': '1-1',\n",
       " '---J---': 'nick_fmriprep3_28846',\n",
       " '---error---': '/storage/research/cinn_comp/cnbpy_Resources/JOBS/nick_fmriprep3_28846.err',\n",
       " '---output---': '/storage/research/cinn_comp/cnbpy_Resources/JOBS/nick_fmriprep3_28846.out'}"
      ]
     },
     "execution_count": 7,
     "metadata": {},
     "output_type": "execute_result"
    }
   ],
   "source": [
    "myfmriprep.slurm_dict"
   ]
  },
  {
   "cell_type": "markdown",
   "metadata": {},
   "source": [
    "Now our job script is populated."
   ]
  },
  {
   "cell_type": "code",
   "execution_count": 8,
   "metadata": {},
   "outputs": [
    {
     "name": "stdout",
     "output_type": "stream",
     "text": [
      "#!/bin/bash\n",
      "\n",
      "#SBATCH -J nick_fmriprep3_28846\n",
      "#SBATCH -N 1-1\n",
      "#SBATCH --cpus-per-task=16\n",
      "#SBATCH --mem-per-cpu=4G\n",
      "#SBATCH --mail-user=yg916972@reading.ac.uk\n",
      "#SBATCH --error=/storage/research/cinn_comp/cnbpy_Resources/JOBS/nick_fmriprep3_28846.err\n",
      "#SBATCH --output=/storage/research/cinn_comp/cnbpy_Resources/JOBS/nick_fmriprep3_28846.out\n",
      "#SBATCH --mail-type=ALL\n",
      "\n",
      "export SINGULARITYENV_TEMPLATEFLOW_HOME=/templateflow\n",
      "\n",
      "\n",
      "\n",
      "singularity run --cleanenv -B /storage/research/cinn_comp/cnbpy_Resources/freesurfer:/freesurfer -B /storage/research/cinn_comp/cnbpy_Resources/templateflow:/templateflow -B /storage/research/cinn_comp/cnbpy_Resources/WORK/nick_fmriprep3_28846:/work -B /storage/research/cinn_comp/cnbpy_Resources/OUTPUT/nick_fmriprep3_28846:/out -B /storage/research/cinn_comp/cnbpy_Resources/FMRIPREP_EXAMP:/data /storage/research/cinn_comp/cnbpy_Resources/poldracklab_fmriprep_latest-2020-04-09-30f9d1d80eba.simg /data /out participant --participant-label 28846 -w /work --output-spaces MNI152NLin2009cAsym --mem_mb 30000 --omp-nthreads 8 --nthreads 12 --fs-license-file /freesurfer/license.txt --write-graph --ignore slicetiming --low-mem --fs-no-reconall\n",
      "\n",
      "\n"
     ]
    }
   ],
   "source": [
    "print(myfmriprep.working_string)"
   ]
  },
  {
   "cell_type": "markdown",
   "metadata": {},
   "source": [
    "We can then writeout this file as follows."
   ]
  },
  {
   "cell_type": "code",
   "execution_count": 43,
   "metadata": {},
   "outputs": [],
   "source": [
    "myfmriprep.writeout()"
   ]
  },
  {
   "cell_type": "markdown",
   "metadata": {},
   "source": [
    "The file will be written out to this location."
   ]
  },
  {
   "cell_type": "code",
   "execution_count": 33,
   "metadata": {},
   "outputs": [
    {
     "data": {
      "text/plain": [
       "'/storage/research/cinn_comp/cnbpy_Resources/JOBS/nick_fmriprep3_28846.sh'"
      ]
     },
     "execution_count": 33,
     "metadata": {},
     "output_type": "execute_result"
    }
   ],
   "source": [
    "myfmriprep.outfile"
   ]
  },
  {
   "cell_type": "markdown",
   "metadata": {},
   "source": [
    "We execute as follows."
   ]
  },
  {
   "cell_type": "code",
   "execution_count": 45,
   "metadata": {},
   "outputs": [],
   "source": [
    "myfmriprep.execute()"
   ]
  },
  {
   "cell_type": "markdown",
   "metadata": {},
   "source": [
    "The errorfile will be written to here:"
   ]
  },
  {
   "cell_type": "code",
   "execution_count": 55,
   "metadata": {},
   "outputs": [
    {
     "data": {
      "text/plain": [
       "'/storage/research/cinn_comp/cnbpy_Resources/JOBS/nick_fmriprep3_28846.err'"
      ]
     },
     "execution_count": 55,
     "metadata": {},
     "output_type": "execute_result"
    }
   ],
   "source": [
    "myfmriprep.errfile"
   ]
  },
  {
   "cell_type": "markdown",
   "metadata": {},
   "source": [
    "Outputs will be written here"
   ]
  },
  {
   "cell_type": "code",
   "execution_count": 58,
   "metadata": {},
   "outputs": [
    {
     "data": {
      "text/plain": [
       "'/storage/research/cinn_comp/cnbpy_Resources/OUTPUT/nick_fmriprep3_28846'"
      ]
     },
     "execution_count": 58,
     "metadata": {},
     "output_type": "execute_result"
    }
   ],
   "source": [
    "myfmriprep.out_path"
   ]
  },
  {
   "cell_type": "markdown",
   "metadata": {},
   "source": [
    "Intermediate outputs will be stored here."
   ]
  },
  {
   "cell_type": "code",
   "execution_count": 56,
   "metadata": {},
   "outputs": [
    {
     "data": {
      "text/plain": [
       "'/storage/research/cinn_comp/cnbpy_Resources/WORK/nick_fmriprep3_28846'"
      ]
     },
     "execution_count": 56,
     "metadata": {},
     "output_type": "execute_result"
    }
   ],
   "source": [
    "myfmriprep.work_path"
   ]
  },
  {
   "cell_type": "markdown",
   "metadata": {},
   "source": [
    "If you wanted to submit a bunch of subjects as paralell jobs you could do something like:\n",
    "\n",
    "```python\n",
    "\n",
    "def fmriprep_subject(jobname,pid):\n",
    "    myfmriprep=FMRIPREP(jobname=jobname,pid=pid)\n",
    "    myfmriprep.populate_all()\n",
    "    myfmriprep.writeout()\n",
    "    myfmriprep.execute()\n",
    "    \n",
    "PIDS=['0001','0002','0003','0004']\n",
    "\n",
    "for PID in PIDS:\n",
    "    fmriprep_subject('myfmriprep',PID)\n",
    "    \n",
    "```"
   ]
  },
  {
   "cell_type": "markdown",
   "metadata": {},
   "source": [
    "## Notes:\n",
    "\n",
    "1. You will need paths in your yaml file to point to locations that you have made, or we might get permissions errors.\n",
    "2. Any errors should be returned to myfmriprep.errfile which is a text file that you can read.\n",
    "3. We will need to sort out how we have access to the singularity image."
   ]
  }
 ],
 "metadata": {
  "kernelspec": {
   "display_name": "Python 3",
   "language": "python",
   "name": "python3"
  },
  "language_info": {
   "codemirror_mode": {
    "name": "ipython",
    "version": 3
   },
   "file_extension": ".py",
   "mimetype": "text/x-python",
   "name": "python",
   "nbconvert_exporter": "python",
   "pygments_lexer": "ipython3",
   "version": "3.6.10"
  }
 },
 "nbformat": 4,
 "nbformat_minor": 4
}
